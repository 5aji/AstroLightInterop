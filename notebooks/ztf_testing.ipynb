{
 "cells": [
  {
   "cell_type": "code",
   "execution_count": 25,
   "metadata": {},
   "outputs": [],
   "source": [
    "\n",
    "from astrolightinterop.ZTF.ztf2plasticc import *\n",
    "import seaborn as sns"
   ]
  },
  {
   "cell_type": "code",
   "execution_count": 22,
   "outputs": [
    {
     "name": "stdout",
     "output_type": "stream",
     "text": [
      "                 ra      decl  hostgal_specz  hostgal_photz  \\\n",
      "object_id                                                     \n",
      "77655917   2.429978 -0.171915            0.0       0.057099   \n",
      "104069748  3.602883 -0.046251            0.0       0.064896   \n",
      "50774476   3.974115 -0.046251            0.0       0.072700   \n",
      "124931660  5.576914 -0.046251            0.0       0.077632   \n",
      "90466106   5.944944 -0.046251            0.0       0.117204   \n",
      "...             ...       ...            ...            ...   \n",
      "44548047   4.499433  0.959058            0.0       0.042469   \n",
      "105937081  3.141593  1.210386            0.0       0.060842   \n",
      "102389078  5.235988  1.210386            0.0       0.233095   \n",
      "57716124   5.834386  1.210386            0.0       0.103372   \n",
      "129231730  3.141593  1.336050            0.0       0.058231   \n",
      "\n",
      "           hostgal_photz_err     mwebv  target  \n",
      "object_id                                       \n",
      "77655917                -9.0  0.044758       3  \n",
      "104069748               -9.0  0.023837       3  \n",
      "50774476                -9.0  0.023865       3  \n",
      "124931660               -9.0  0.022982       3  \n",
      "90466106                -9.0  0.025429       3  \n",
      "...                      ...       ...     ...  \n",
      "44548047                -9.0  0.022117       3  \n",
      "105937081               -9.0  0.021597       3  \n",
      "102389078               -9.0  0.019063       3  \n",
      "57716124                -9.0  0.018306       3  \n",
      "129231730               -9.0  0.017831       3  \n",
      "\n",
      "[10554 rows x 7 columns]                         passband        flux    flux_err  detected\n",
      "object_id   mjd                                                   \n",
      "77655917.0  57434.2570         2  265.199432   94.643684         0\n",
      "            57434.3084         1   88.155785   72.847511         0\n",
      "            57437.2788         1  213.957657  118.034760         0\n",
      "            57437.3067         2  -27.656326  144.980881         0\n",
      "            57444.2871         1  121.699219  100.779625         0\n",
      "...                          ...         ...         ...       ...\n",
      "129231730.0 57698.5387         2   -1.184628   73.804779         0\n",
      "            57702.5087         2   41.632492   74.534035         0\n",
      "            57702.5346         1    2.600012   60.476971         0\n",
      "            57705.4508         2   21.877810  172.221298         0\n",
      "            57705.4928         1  159.670334  134.113388         0\n",
      "\n",
      "[800272 rows x 4 columns]\n",
      "Wall time: 6.73 s\n"
     ]
    }
   ],
   "source": [
    "%%time\n",
    "p = Path(\"../data/DATA/ZTF_20190512/ZTF_MSIP_MODEL03\")\n",
    "meta, curves = model_loader(p)\n",
    "print(meta,curves)"
   ],
   "metadata": {
    "collapsed": false,
    "pycharm": {
     "name": "#%%\n"
    }
   }
  },
  {
   "cell_type": "code",
   "execution_count": 30,
   "outputs": [
    {
     "data": {
      "text/plain": "<matplotlib.axes._subplots.AxesSubplot at 0x1c9edb1b088>"
     },
     "execution_count": 30,
     "metadata": {},
     "output_type": "execute_result"
    },
    {
     "data": {
      "text/plain": "<Figure size 432x288 with 1 Axes>",
      "image/png": "[encoded data removed]"
     },
     "metadata": {
      "needs_background": "light"
     },
     "output_type": "display_data"
    }
   ],
   "source": [
    "sns.lineplot(x=meta.index, y=\"target\", data=meta)\n",
    "\n"
   ],
   "metadata": {
    "collapsed": false,
    "pycharm": {
     "name": "#%%\n"
    }
   }
  }
 ],
 "metadata": {
  "language_info": {
   "codemirror_mode": {
    "name": "ipython",
    "version": 3
   },
   "file_extension": ".py",
   "mimetype": "text/x-python",
   "name": "python",
   "nbconvert_exporter": "python",
   "pygments_lexer": "ipython3",
   "version": "3.7.7-final"
  },
  "orig_nbformat": 2,
  "kernelspec": {
   "name": "python3",
   "language": "python",
   "display_name": "Python 3"
  }
 },
 "nbformat": 4,
 "nbformat_minor": 2
}